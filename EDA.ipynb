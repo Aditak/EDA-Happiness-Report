{
 "cells": [
  {
   "cell_type": "markdown",
   "id": "b9dfd400",
   "metadata": {},
   "source": [
    "<h1 Style=\"font-family:Georgia, serif;\">Exploratory Data Analysis on World Happiness Index Report </h1>\n",
    "    <hr>"
   ]
  },
  {
   "cell_type": "markdown",
   "id": "8fcb1d9f",
   "metadata": {},
   "source": [
    "## Introduction"
   ]
  },
  {
   "cell_type": "markdown",
   "id": "0011c0d7",
   "metadata": {},
   "source": [
    "<p style=\"font-family:Georgia, serif;\">Happiness is an emotional state characterized by feelings of joy, satisfaction, contentment, and fulfillment. While happiness has many different definitions, it is often described as involving positive emotions and life satisfaction."
   ]
  },
  {
   "cell_type": "markdown",
   "id": "28cac881",
   "metadata": {},
   "source": [
    " <h3> World Happiness Report: </h3>"
   ]
  },
  {
   "cell_type": "markdown",
   "id": "b5bf2793",
   "metadata": {},
   "source": [
    "<p style=\"font-family:Georgia, serif;\">\n",
    "The World Happiness Report is a landmark survey of the state of global happiness.The report continues to gain global recognition as governments, organizations and civil society increasingly use happiness indicators to inform their policy-making decisions.Leading experts across fields – economics, psychology, survey analysis, national statistics, health, public policy and more – describe how measurements of well-being can be used effectively to assess the progress of nations.\n",
    "The reports review the state of happiness in the world today and show how the new science of happiness explains personal and national variations in happiness.</li>\n",
    "</p>\n",
    "<p style=\"font-family:Georgia, serif;\">The happiness scores and rankings use data from the Gallup World Poll . The columns following the happiness score estimate the extent to which each of six factors – economic production, social support, life expectancy, freedom, absence of corruption, and generosity – contribute to making life evaluations higher in each country than they are in Dystopia, a hypothetical country that has values equal to the world’s lowest national averages for each of the six factors. They have no impact on the total score reported for each country, but they do explain why some countries rank higher than others.\n",
    "</p>"
   ]
  },
  {
   "cell_type": "markdown",
   "id": "35baab66",
   "metadata": {},
   "source": [
    "<h3> Objective:</h3>\n",
    "<ul style=\"font-family:Georgia, serif;font-size:1.1em;line-height:1.75em;\">\n",
    "    <li>To identify trends in happiness index for various countries over the past years.</li>\n",
    "    <li>To identify factors determining state of happiness in various countries.</li>\n",
    "    <li>To study how much impact these factors have in happiness score of a country.</li>\n",
    "    <li>To study and identify the reasons due to which some countries have low score.</li>\n",
    "    <li>To identify the reason of why India is always at bottom over the past decade. </li>\n",
    "    <li>To identify areas where India needs to work on to improve it's ranking.</li>\n",
    "</ul>    "
   ]
  },
  {
   "cell_type": "markdown",
   "id": "c4a5556d",
   "metadata": {},
   "source": [
    "<h3>Importing Libraries:</h3>\n",
    "<ul>\n",
    "<li>\n",
    "In this section We import all the libaries used in this Kernal.\n",
    "</li>\n",
    "</ul>"
   ]
  },
  {
   "cell_type": "code",
   "execution_count": null,
   "id": "21cad2c0",
   "metadata": {},
   "outputs": [],
   "source": [
    "!pip install plotly\n",
    "\n",
    "import warnings\n",
    "warnings.filterwarnings(\"ignore\")\n",
    "import plotly.io as pio\n",
    "import numpy as np\n",
    "import pandas as pd\n",
    "import matplotlib\n",
    "import matplotlib.pyplot as plt\n",
    "import matplotlib.ticker as mtick\n",
    "import matplotlib.gridspec as grid_spec\n",
    "import seaborn as sns\n",
    "import plotly.express as px \n",
    "pd.options.mode.chained_assignment = None  # default='warn' \n",
    "%matplotlib inline"
   ]
  },
  {
   "cell_type": "markdown",
   "id": "f00d9947",
   "metadata": {},
   "source": [
    "### Data Content: \n",
    "The happiness scores and rankings use data from the Gallup World Poll.\n",
    "Gallup World Poll:\n",
    "In 2005, Gallup began its World Poll, which continually surveys citizens in 160 countries, representing more than 98% of the world's adult population. The Gallup World Poll consists of more than 100 global questions as well as region-specific items. The columns following the happiness score estimate the extent to which each of six factors – economic production, social support, life expectancy, freedom, absence of corruption, and generosity – contribute to making life evaluations higher in each country than they are in Dystopia, a hypothetical country that has values equal to the world’s lowest national averages for each of the six factors.\n",
    "<ul style=\"line-height:2em;\">\n",
    "<li><strong>Ladder score:</strong>\n",
    "Happiness score or subjective well-being. This is the national average response to the question of life evaluations.\n",
    "\n",
    "<li><strong>Logged GDP per capita:</strong>\n",
    "The GDP-per-capita time series from 2019 to 2020 using countryspecific forecasts of real GDP growth in 2020.\n",
    "\n",
    "<li><strong>Social support:</strong>\n",
    "Social support refers to assistance or support provided by members of social networks to an individual. </li>\n",
    "\n",
    "<li><strong>Healthy life expectancy:</strong>\n",
    "Healthy life expectancy is the average life in good health - that is to say without irreversible limitation of activity in daily life or incapacities - of a fictitious generation subject to the conditions of mortality and morbidity prevailing that year.\n",
    "\n",
    "<li><strong>Freedom to make life choices:</strong>\n",
    "Freedom to make life choices is the national average of binary responses to the GWP question “Are you satisfied or dissatisfied with your freedom to choose what you do with your life?” ... It is defined as the average of laughter and enjoyment for other waves where the happiness question was not asked\n",
    "\n",
    "<li><strong>Generosity:</strong>\n",
    "Generosity is the residual of regressing national average of response to the GWP question “Have you donated money to a charity in the past month?” on GDP per capita.\n",
    "\n",
    "<li><strong>Perceptions of corruption:</strong>\n",
    "The measure is the national average of the survey responses to two questions in the GWP: “Is corruption widespread throughout the government or not” and “Is corruption widespread within businesses or not?”\n",
    "\n",
    "<li><strong>Ladder score in Dystopia:</strong>\n",
    "It has values equal to the world’s lowest national averages. Dystopia as a benchmark against which to compare contributions from each of the six factors. Dystopia is an imaginary country that has the world's least-happy people. ... Since life would be very unpleasant in a country with the world's lowest incomes, lowest life expectancy, lowest generosity, most corruption, least freedom, and least social support, it is referred to as “Dystopia,” in contrast to Utopia\n",
    "\n",
    "World Happiness Report Official Website:<a href=\"https://worldhappiness.report/\"> here </a>"
   ]
  },
  {
   "cell_type": "markdown",
   "id": "fa540c73",
   "metadata": {},
   "source": [
    "## Reading and Analysing Data:"
   ]
  },
  {
   "cell_type": "markdown",
   "id": "1472d337",
   "metadata": {},
   "source": [
    "### Past Records of World Happiness Report:"
   ]
  },
  {
   "cell_type": "code",
   "execution_count": null,
   "id": "7c3a8c20",
   "metadata": {
    "scrolled": true
   },
   "outputs": [],
   "source": [
    "# reading dataset\n",
    "whr=pd.read_csv(r\"Datasets/world-happiness-report.csv\")"
   ]
  },
  {
   "cell_type": "code",
   "execution_count": null,
   "id": "76a545d7",
   "metadata": {
    "scrolled": false
   },
   "outputs": [],
   "source": [
    "# Show Information of data  \n",
    "whr.info()"
   ]
  },
  {
   "cell_type": "code",
   "execution_count": null,
   "id": "c5d1c99f",
   "metadata": {
    "scrolled": true
   },
   "outputs": [],
   "source": [
    "# Show First five rows of data \n",
    "whr.head()"
   ]
  },
  {
   "cell_type": "code",
   "execution_count": null,
   "id": "9d37e892",
   "metadata": {},
   "outputs": [],
   "source": [
    "# describe basic statistics of data\n",
    "whr.describe()"
   ]
  },
  {
   "cell_type": "code",
   "execution_count": null,
   "id": "941123e5",
   "metadata": {},
   "outputs": [],
   "source": [
    "# what all years data do we have \n",
    "print(whr['year'].unique())"
   ]
  },
  {
   "cell_type": "code",
   "execution_count": null,
   "id": "c453527b",
   "metadata": {},
   "outputs": [],
   "source": [
    "# checking no of null values\n",
    "def check_null(df):\n",
    "    for col in df.columns:\n",
    "        values = np.mean(df[col].isnull())\n",
    "        print(f'{col} --- \\t{values}% null values')\n",
    "check_null(whr)    \n",
    "# since no of null values are less than 1% we will ignore them"
   ]
  },
  {
   "cell_type": "markdown",
   "id": "76d79479",
   "metadata": {},
   "source": [
    "### World Happiness Report 2021:"
   ]
  },
  {
   "cell_type": "code",
   "execution_count": null,
   "id": "8c7aa24c",
   "metadata": {},
   "outputs": [],
   "source": [
    "# read data:\n",
    "whr21=pd.read_csv(r\"Datasets/world-happiness-report-2021.csv\")"
   ]
  },
  {
   "cell_type": "code",
   "execution_count": null,
   "id": "801c7e6b",
   "metadata": {},
   "outputs": [],
   "source": [
    "# 2021 dataset \n",
    "whr21.info()"
   ]
  },
  {
   "cell_type": "code",
   "execution_count": null,
   "id": "d4c78d76",
   "metadata": {},
   "outputs": [],
   "source": [
    "# show first five coloumn of data\n",
    "whr21.head()"
   ]
  },
  {
   "cell_type": "code",
   "execution_count": null,
   "id": "f2a661f3",
   "metadata": {
    "scrolled": true
   },
   "outputs": [],
   "source": [
    "# describe basic statistics of the data \n",
    "whr21.describe()"
   ]
  },
  {
   "cell_type": "code",
   "execution_count": null,
   "id": "79adc177",
   "metadata": {},
   "outputs": [],
   "source": [
    "# checking null values \n",
    "check_null(whr21)\n",
    "# No null values present ... Good to go"
   ]
  },
  {
   "cell_type": "markdown",
   "id": "a287ccd1",
   "metadata": {},
   "source": [
    "## Data Cleaning:"
   ]
  },
  {
   "cell_type": "code",
   "execution_count": null,
   "id": "d8355438",
   "metadata": {},
   "outputs": [],
   "source": [
    "# shows all the coloumn in whr dataset\n",
    "whr.columns"
   ]
  },
  {
   "cell_type": "code",
   "execution_count": null,
   "id": "9ce43f17",
   "metadata": {},
   "outputs": [],
   "source": [
    "# shows all the coloumn in whr21 dataset\n",
    "whr21.columns\n",
    "# contains few additional coloumns that we dont have in past years dataset "
   ]
  },
  {
   "cell_type": "code",
   "execution_count": null,
   "id": "b7177f09",
   "metadata": {},
   "outputs": [],
   "source": [
    "# Renaming columns for easier access :\n",
    "\n",
    "whr.rename(columns={'Country name':'country','Social support':'social support','Life Ladder':'score','Log GDP per capita':'gdp per capita','Healthy life expectancy at birth':'healthy life expectancy','Freedom to make life choices':'freedom','Generosity':'generosity','Perceptions of corruption':'corruption'},inplace=True)"
   ]
  },
  {
   "cell_type": "code",
   "execution_count": null,
   "id": "f973b77e",
   "metadata": {},
   "outputs": [],
   "source": [
    "# renameing columns for easier access :\n",
    "\n",
    "whr21.rename(columns={'Country name':'country','Regional indicator':'region','Social support':'social support','Ladder score':'score','Logged GDP per capita':'gdp per capita','Healthy life expectancy':'healthy life expectancy','Freedom to make life choices':'freedom','Generosity':'generosity','Perceptions of corruption':'corruption'},inplace=True)\n",
    "whr21"
   ]
  },
  {
   "cell_type": "code",
   "execution_count": null,
   "id": "2a9a6248",
   "metadata": {},
   "outputs": [],
   "source": [
    "# removed un-needed columns :\n",
    "\n",
    "whr21=whr21[['country','region','score','gdp per capita','social support','healthy life expectancy','generosity','freedom','corruption']]"
   ]
  },
  {
   "cell_type": "code",
   "execution_count": null,
   "id": "72529a2e",
   "metadata": {},
   "outputs": [],
   "source": [
    "# adding year column for 2021 dataset\n",
    "whr21['year']=2021"
   ]
  },
  {
   "cell_type": "code",
   "execution_count": null,
   "id": "06f3e3ad",
   "metadata": {},
   "outputs": [],
   "source": [
    "# merging both data frames:\n",
    "\n",
    "temp_reg = pd.merge(whr, whr21, how='outer',on='country')\n",
    "whr['region']=temp_reg['region']\n",
    "\n",
    "eda_happy = pd.merge(whr,whr21, how='outer',on=['country', 'year', 'score', 'gdp per capita','social support','healthy life expectancy','freedom','generosity','corruption','region'])"
   ]
  },
  {
   "cell_type": "code",
   "execution_count": null,
   "id": "61be4e15",
   "metadata": {
    "scrolled": true
   },
   "outputs": [],
   "source": [
    "# rearranging columns\n",
    "\n",
    "eda_happy=eda_happy[['region', 'country', 'year', 'score', 'gdp per capita', 'social support', 'healthy life expectancy', 'freedom','generosity', 'corruption']]\n",
    "eda_happy=eda_happy.sort_values(by='year')"
   ]
  },
  {
   "cell_type": "code",
   "execution_count": null,
   "id": "b37ba980",
   "metadata": {
    "scrolled": true
   },
   "outputs": [],
   "source": [
    "eda_happy.tail()"
   ]
  },
  {
   "cell_type": "code",
   "execution_count": null,
   "id": "f6b763c1",
   "metadata": {},
   "outputs": [],
   "source": [
    "# Still less than 0.1% so we ignore\n",
    "check_null(eda_happy)"
   ]
  },
  {
   "cell_type": "markdown",
   "id": "8c21626c",
   "metadata": {},
   "source": [
    "#### Now our dataframe is ready for Analysis!"
   ]
  },
  {
   "cell_type": "markdown",
   "id": "120c9f41",
   "metadata": {},
   "source": [
    "## Analysis "
   ]
  },
  {
   "cell_type": "markdown",
   "id": "b833e7ae",
   "metadata": {},
   "source": [
    "First of all, let us see trends of happiness scores over past few years in a global view."
   ]
  },
  {
   "cell_type": "code",
   "execution_count": null,
   "id": "b989d500",
   "metadata": {
    "scrolled": false
   },
   "outputs": [],
   "source": [
    "#Seems like we dont have appropriate data for 2005 - 2006 so we filter them out\n",
    "fig=px.choropleth(eda_happy[(eda_happy['year'] != 2005) &  (eda_happy['year'] != 2006)],locations='country',width=800,height=800,locationmode='country names',hover_name='country',color='score',animation_frame='year',projection='natural earth', title='Happiness Level in Countries over past years') \n",
    "fig.show()"
   ]
  },
  {
   "cell_type": "markdown",
   "id": "7377cdd0",
   "metadata": {},
   "source": [
    "From the above plot, It can be observed that most of the countries/states present in North American & ANZ and the Western European regions have maintained a high levels of happiness throughtout the years.\n",
    "\n",
    "Similarly, it can also be observed that most of the countries present in Sub-Saharan African, Asian & Southeast Asian regions have happiness levels fluctuating between low to medium. Indicating a lower score happiness score throughout many years.\n",
    "\n",
    "We will try finding out the factors leading to this!"
   ]
  },
  {
   "cell_type": "markdown",
   "id": "872324b0",
   "metadata": {},
   "source": [
    "#### Happiest Countries in the World:"
   ]
  },
  {
   "cell_type": "markdown",
   "id": "27e18d90",
   "metadata": {},
   "source": [
    "    Before we continue let us find out which countries are performing well in terms of happiness score and which countries are underperforming over the past few years."
   ]
  },
  {
   "cell_type": "markdown",
   "id": "f2c3680e",
   "metadata": {},
   "source": [
    "To identify performance of these countries over past few years we first find average score of countries over the past years, based on which we classify the countries as happy or unhappy depending on their scores"
   ]
  },
  {
   "cell_type": "code",
   "execution_count": null,
   "id": "9077ab34",
   "metadata": {},
   "outputs": [],
   "source": [
    "# average score over the years\n",
    "mean=np.mean(eda_happy['score'])\n",
    "mean"
   ]
  },
  {
   "cell_type": "markdown",
   "id": "9de067b0",
   "metadata": {},
   "source": [
    "Mean Score : 5"
   ]
  },
  {
   "cell_type": "markdown",
   "id": "e553e5cd",
   "metadata": {},
   "source": [
    "Therefore , Any country with average score above 5 can be considered happy and those with average score below 5 can be considered as Unhappy."
   ]
  },
  {
   "cell_type": "markdown",
   "id": "16b76b38",
   "metadata": {},
   "source": [
    "First of all lets see what counties have had good performance over the past years:"
   ]
  },
  {
   "cell_type": "code",
   "execution_count": null,
   "id": "4a212ae3",
   "metadata": {},
   "outputs": [],
   "source": [
    "%matplotlib inline\n",
    "# To see the top 10 highest and lowest countries we need to create plot data differently\n",
    "\n",
    "top_happy = eda_happy.groupby('country', as_index=False)['score'].mean().sort_values(\n",
    "    by='score',ascending=False)[:10]\n",
    "top_unhappy = eda_happy.groupby('country', as_index=False)['score'].mean().sort_values(\n",
    "    by='score', ascending=True)[:10]\n",
    "top_unhappy =top_unhappy.sort_values(by='score', ascending=False)\n",
    "plt.style.use('seaborn')\n",
    "plt.figure(2, figsize=(12,8))\n",
    "sns.barplot(data=top_happy, x='score', y='country',palette='Blues_d')\n",
    "plt.xlabel('Score',fontsize=14, fontweight='bold')\n",
    "plt.ylabel('Country', fontsize=14, fontweight='bold')\n",
    "plt.title('Top 10 Happiest Countries in the World', fontsize=16, fontweight='bold')\n",
    "plt.yticks(fontsize=12)\n",
    "plt.xticks(fontsize=12)\n",
    "plt.show()"
   ]
  },
  {
   "cell_type": "markdown",
   "id": "3a6c7269",
   "metadata": {},
   "source": [
    "From above plot, It can be observed that Denmark, Finland and Switzerland have had a great performance in terms of happiness score.\n",
    "Also most of the high ranking happiest countries are in Europe."
   ]
  },
  {
   "cell_type": "markdown",
   "id": "926b6292",
   "metadata": {},
   "source": [
    "## Happiest Countries over Past Few Years: "
   ]
  },
  {
   "cell_type": "code",
   "execution_count": null,
   "id": "ccf063bf",
   "metadata": {},
   "outputs": [],
   "source": [
    "df1=eda_happy[eda_happy['score']==eda_happy.groupby('year')['score'].transform('max').values]\n",
    "df1.sort_values(by='year')\n",
    "plt.figure(figsize=(15,8))\n",
    "plt.xticks(fontsize=15)\n",
    "plt.yticks(fontsize=15)\n",
    "plt.xlim(0,15)\n",
    "plt.ylim(0,10)\n",
    "plt.title('Happiest Countries over the past years:', fontsize=16, fontweight='bold')\n",
    "sns.barplot(x='year', y='score', data = df1, hue = 'country', dodge=False)\n",
    "plt.show()"
   ]
  },
  {
   "cell_type": "markdown",
   "id": "1f5b6704",
   "metadata": {},
   "source": [
    "Now lets see what countries have lowest happiness index over past years."
   ]
  },
  {
   "cell_type": "markdown",
   "id": "b7228d7d",
   "metadata": {},
   "source": [
    "#### Top 10 Unhappiest Countries in the World:"
   ]
  },
  {
   "cell_type": "code",
   "execution_count": null,
   "id": "ade7ae2a",
   "metadata": {},
   "outputs": [],
   "source": [
    "%matplotlib inline\n",
    "\n",
    "plt.style.use('seaborn')\n",
    "plt.figure(3, figsize=(12,8))\n",
    "sns.barplot(data=top_unhappy, x='score', y='country',palette='Reds_d')\n",
    "plt.xlabel('Score',fontsize=14, fontweight='bold')\n",
    "plt.ylabel('Country', fontsize=14, fontweight='bold')\n",
    "plt.title('Top 10 lowest happiness scored countries', fontsize=16, fontweight='bold')\n",
    "plt.xlim(0,5)\n",
    "plt.xticks(fontsize=12)\n",
    "plt.yticks(fontsize=12)\n",
    "plt.show()"
   ]
  },
  {
   "cell_type": "markdown",
   "id": "2f6a3540",
   "metadata": {},
   "source": [
    "From the above graph, we can observe that South Sudan has the lowest mean happiness level scores throughtout the years. Also most of the lowest ranking countries belong to South Africa and Asian countries."
   ]
  },
  {
   "cell_type": "markdown",
   "id": "7f0497ea",
   "metadata": {},
   "source": [
    "## Saddist Countries over past few Years:"
   ]
  },
  {
   "cell_type": "code",
   "execution_count": null,
   "id": "27ff709a",
   "metadata": {},
   "outputs": [],
   "source": [
    "df2=eda_happy[eda_happy['score']==eda_happy.groupby('year')['score'].transform('min').values]\n",
    "df2.sort_values(by='year')\n",
    "plt.figure(figsize=(15,8))\n",
    "plt.xticks(fontsize=15)\n",
    "plt.yticks(fontsize=15)\n",
    "plt.xlim(0,15)\n",
    "plt.ylim(0,10)\n",
    "plt.title('Saddist Countries over the past years:', fontsize=16, fontweight='bold')\n",
    "sns.barplot(x='year', y='score', data = df2, hue = 'country', dodge=False)\n",
    "plt.show()"
   ]
  },
  {
   "cell_type": "markdown",
   "id": "0c86f25f",
   "metadata": {},
   "source": [
    "## Regional Distribution"
   ]
  },
  {
   "cell_type": "markdown",
   "id": "125053e4",
   "metadata": {},
   "source": [
    "Before we continue, lets see if we can see region wise performance of these countries.\n"
   ]
  },
  {
   "cell_type": "code",
   "execution_count": null,
   "id": "2cdcdeb0",
   "metadata": {},
   "outputs": [],
   "source": [
    "%matplotlib inline\n",
    "\n",
    "plt.style.use('seaborn')\n",
    "plt.figure(figsize=(15.5,7),dpi=150)\n",
    "sns.kdeplot(eda_happy[\"score\"],hue=eda_happy['region'],fill=True, linewidth=2)\n",
    "plt.axvline(eda_happy[\"score\"].mean())\n",
    "plt.title(\"Score Distribution by Region\",fontsize=16,fontweight='bold')\n",
    "plt.xlabel('Score',fontsize=14, fontweight='bold')\n",
    "plt.ylabel('Density', fontsize=14, fontweight='bold')\n",
    "plt.xlim(0,10)\n",
    "plt.xticks(fontsize=10)\n",
    "plt.yticks(fontsize=10)\n",
    "plt.show()"
   ]
  },
  {
   "cell_type": "markdown",
   "id": "2cbe97b3",
   "metadata": {},
   "source": [
    "From the following plot, We can divide the regions based on their peak scores. ie.Region whose peak score lies behind the mean axis can be classified as 'Unhappy Regions' whereas those regions whose peak value is ahead of mean axis can be classified as 'Happy Regions'\n",
    "\n",
    "Thus, It is clear that Western European Countries has greater performance followed by North American and ANZ regions, Whereas Sub-Saharan Africa has lowest performance followed by South Asian region."
   ]
  },
  {
   "cell_type": "markdown",
   "id": "6abd42c3",
   "metadata": {},
   "source": [
    "### Variation in Scores over the years:"
   ]
  },
  {
   "cell_type": "markdown",
   "id": "c4db472a",
   "metadata": {},
   "source": [
    "Now, In order to identify the impact of factors affecting happiness scores let us first observe trends of top 20 countries over the past few years, In order to understand how these scores are varrying over the years"
   ]
  },
  {
   "cell_type": "code",
   "execution_count": null,
   "id": "9b20545e",
   "metadata": {
    "scrolled": false
   },
   "outputs": [],
   "source": [
    "background = \"#fbfbfb\"\n",
    "fig, ax = plt.subplots(1,1, figsize=(10, 5),dpi=150)\n",
    "fig.patch.set_facecolor(background) # figure background color\n",
    "ax.set_facecolor(background)\n",
    "\n",
    "# 2021 dataframe \n",
    "eda_happy21=eda_happy[eda_happy['year']==2021]\n",
    "# top 20 happiest countries of 2021\n",
    "top_list_ = eda_happy21.groupby('country')['score'].mean().sort_values(ascending=False).reset_index()[:20].sort_values(by='score',ascending=True)\n",
    "\n",
    "plot = 1\n",
    "# for top 20 happiest countries of 2021 do: \n",
    "for country in top_list_['country']:\n",
    "    m = eda_happy[eda_happy['country'] == country].groupby('country')['score'].mean()\n",
    "    sns.scatterplot(data=eda_happy[eda_happy['country'] == country], y=plot, x='score',color='grey',s=35,ax=ax)\n",
    "    sns.scatterplot(data=eda_happy21[eda_happy21['country'] == country], y=plot, x='score',color='red',ec='black',linewidth=1,s=75,ax=ax)   \n",
    "    sns.scatterplot(data=eda_happy21[eda_happy21['country'] == country], y=plot, x=m,color='gold',ec='black',linewidth=1,s=75,ax=ax)\n",
    "    plot += 1\n",
    "ax.set_yticks(top_list_.index+1)\n",
    "ax.set_yticklabels(top_list_['country'][::-1], fontdict={'horizontalalignment': 'right'}, alpha=0.7)\n",
    "ax.tick_params(axis=u'both', which=u'both',length=0)\n",
    "ax.set_xlabel(\"Happiness Index Score\",fontfamily='monospace',loc='left',color='gray')\n",
    "Xstart, Xend = ax.get_xlim()\n",
    "Ystart, Yend = ax.get_ylim()\n",
    "ax.hlines(y=top_list_.index+1, xmin=Xstart, xmax=Xend, color='gray', alpha=0.5, linewidth=.3, linestyles='--')\n",
    "ax.set_axisbelow(True)\n",
    "ax.text(6.25, Yend+4.3, 'Happiness Index Scores through the years', fontsize=17, fontweight='bold',color='#323232')\n",
    "plt.annotate('2021\\nscore', xy=(7.842, 20), xytext=(8.2, 11),\n",
    "             arrowprops=dict(facecolor='steelblue',arrowstyle=\"->\",connectionstyle=\"arc3,rad=.3\"), fontsize=10,fontfamily='monospace',ha='center', color='red')\n",
    "plt.annotate('Mean\\nscore', xy=(7.615, 20), xytext=(8.2, 16),\n",
    "             arrowprops=dict(facecolor='steelblue',arrowstyle=\"->\",connectionstyle=\"arc3,rad=.5\"), fontsize=10,fontfamily='monospace',ha='center', color='gold')\n",
    "plt.show()\n"
   ]
  },
  {
   "cell_type": "markdown",
   "id": "c0cf8162",
   "metadata": {},
   "source": [
    "This plot shows all scores from 2005 through to the present for the top 20 countries, with their Mean score and their 2021 scores hihglighted specifically.\n",
    "\n",
    "It's remarkable that many countries 2021 score is higher than their mean, despite the pandemic.\n",
    "\n",
    "Although the scores do vary, they still remain relatively high.\n"
   ]
  },
  {
   "cell_type": "markdown",
   "id": "bf181749",
   "metadata": {},
   "source": [
    "We'll see what were the contributors that led to this!"
   ]
  },
  {
   "cell_type": "code",
   "execution_count": null,
   "id": "0cc9fc96",
   "metadata": {},
   "outputs": [],
   "source": [
    "# creating correlation matrix to see which factors contributes the most to happiness levels\n",
    "happy_corr = eda_happy.corr()"
   ]
  },
  {
   "cell_type": "code",
   "execution_count": null,
   "id": "bf0eba15",
   "metadata": {},
   "outputs": [],
   "source": [
    "plt.figure(figsize=(12,8))\n",
    "plt.style.use('seaborn')\n",
    "sns.heatmap(happy_corr, annot=True)\n",
    "plt.xticks(fontsize=11, fontstyle='normal')\n",
    "plt.yticks(fontsize=11, fontstyle='normal')\n",
    "plt.title(\"Factor's Correlation with Happiness Score\", fontsize=14, fontweight='bold')\n",
    "plt.show()"
   ]
  },
  {
   "cell_type": "markdown",
   "id": "9923349b",
   "metadata": {},
   "source": [
    "#### It seems that, GDP per capita score, Healthy life expectancy & Social Support of a country, are the main factors contributing to the overall happiness level!\n",
    "\n",
    "Let's explore these differences between Europe and the rest of the world a little more closely based on above factors."
   ]
  },
  {
   "cell_type": "code",
   "execution_count": null,
   "id": "a6f1f7d6",
   "metadata": {},
   "outputs": [],
   "source": [
    "# Finding Relation between Healthy Life Expectation, GDP per Capita, and Social Support comparing Europian and Other Regions:  \n",
    "background = \"#fbfbfb\"\n",
    "fig, ax = plt.subplots(1,1, figsize=(10, 5),dpi=150)\n",
    "fig.patch.set_facecolor(background) \n",
    "cmap = ['#dd4124','#009473']\n",
    "ax.set_facecolor(background)\n",
    "sns.scatterplot(data=eda_happy, x='healthy life expectancy', y='score',hue=eda_happy['region'] == 'Western Europe',palette=cmap, alpha=0.9,ec='black',size=eda_happy[\"gdp per capita\"]*1000, legend=True, sizes=(5, 500))\n",
    "ax.set_xlabel(\"Life Expectancy\",fontfamily='monospace',loc='left',color='gray')\n",
    "ax.set_ylabel(\"Happiness Index Score\",fontfamily='monospace',loc='top',color='gray')\n",
    "ax.tick_params(axis = 'both', which = 'major', labelsize = 10)\n",
    "for s in [\"top\",\"right\",\"left\"]:\n",
    "    ax.spines[s].set_visible(False)\n",
    "ax.text(45,9.2,'Happiness Score, Life Expectancy, and GDP per Capita',fontfamily='sans serif',fontweight='normal',fontsize=17,weight='bold',color='#323232')\n",
    "L = ax.legend(frameon=False,loc=\"upper center\", bbox_to_anchor=(1.25, 0.8), ncol= 1)\n",
    "plt.setp(L.texts, family='monospace')\n",
    "L.get_frame().set_facecolor('none')\n",
    "L.get_texts()[1].set_text('Outside of Europe')\n",
    "L.get_texts()[2].set_text('Europe')\n",
    "L.get_texts()[3].set_text('GDP p/Capita [log]')\n",
    "\n",
    "ax.tick_params(axis='both', which='both',left=False, bottom=False,labelbottom=True) \n",
    "\n",
    "plt.show()"
   ]
  },
  {
   "cell_type": "markdown",
   "id": "94243a89",
   "metadata": {},
   "source": [
    "We see a strong relationship between these variables and happiness scores\\nand countries in Europe have exclusively high scores.\n",
    "\n",
    "Happier countries tend to be those with longer life expectancies, and a higher GDP. This is also most of Western Europe."
   ]
  },
  {
   "cell_type": "code",
   "execution_count": null,
   "id": "00d8a26b",
   "metadata": {
    "scrolled": false
   },
   "outputs": [],
   "source": [
    "# Finding Relation between Healthy Life Expectation, GDP per Capita, and Social Support comparing African and Other Regions:  \n",
    "background = \"#fbfbfb\"\n",
    "fig, ax = plt.subplots(1,1, figsize=(10, 5),dpi=150)\n",
    "fig.patch.set_facecolor(background) \n",
    "cmap = ['#dd4124','#009473']\n",
    "ax.set_facecolor(background)\n",
    "sns.scatterplot(data=eda_happy, x='healthy life expectancy', y='score',hue=eda_happy['region'] == 'Sub-Saharan Africa',palette=cmap, alpha=0.9,ec='black',size=eda_happy[\"gdp per capita\"]*1000, legend=True, sizes=(5, 500))\n",
    "ax.set_xlabel(\"Life Expectancy\",fontfamily='monospace',loc='left',color='gray')\n",
    "ax.set_ylabel(\"Happiness Index Score\",fontfamily='monospace',loc='top',color='gray')\n",
    "ax.tick_params(axis = 'both', which = 'major', labelsize = 10)\n",
    "ax.text(45,9.2,'Happiness Score, Life Expectancy, and GDP per Capita',fontfamily='sansserif',fontweight='normal',fontsize=17,weight='bold',color='#323232')\n",
    "L = ax.legend(frameon=False,loc=\"upper center\", bbox_to_anchor=(1.25, 0.8), ncol= 1)\n",
    "plt.setp(L.texts, family='monospace')\n",
    "L.get_frame().set_facecolor('none')\n",
    "L.get_texts()[1].set_text('Outside of Africa')\n",
    "L.get_texts()[2].set_text('Africa')\n",
    "L.get_texts()[3].set_text('GDP p/Capita [log]')\n",
    "ax.tick_params(axis='both', which='both',left=False, bottom=False,labelbottom=True) \n",
    "plt.show()"
   ]
  },
  {
   "cell_type": "markdown",
   "id": "56a29bcc",
   "metadata": {},
   "source": [
    "By and large, African countries have lower life expectancy, a lower GDP, and ultimately, lower happiness index scores.\n",
    "\n",
    "#### Thus We can Conclude that GDP per Capita, Healthy Life Expectancy and Socail Support are three of the major factor that determine the state of Happiness in a country."
   ]
  },
  {
   "cell_type": "markdown",
   "id": "e305c13b",
   "metadata": {},
   "source": [
    "### Other factors\n",
    "So GDP & Life expactancy are factors. What else can be considered?"
   ]
  },
  {
   "cell_type": "code",
   "execution_count": null,
   "id": "dcbea467",
   "metadata": {},
   "outputs": [],
   "source": [
    "background = \"#fbfbfb\"\n",
    "fig, ax = plt.subplots(1,1, figsize=(10, 5),dpi=150)\n",
    "fig.patch.set_facecolor(background) # figure background color\n",
    "cmap = ['#dd4124','#009473']\n",
    "ax.set_facecolor(background)\n",
    "sns.scatterplot(data=eda_happy, x='freedom', y='corruption',hue=eda_happy['region'] == 'Western Europe',palette=cmap, alpha=0.9,ec='black',size=eda_happy[\"score\"], legend=True, sizes=(5, 600))\n",
    "ax.set_xlabel(\"Freedom\",fontfamily='monospace',loc='left',color='gray')\n",
    "ax.set_ylabel(\"Corruption\",fontfamily='monospace',loc='top',color='gray')\n",
    "ax.tick_params(axis = 'both', which = 'major', labelsize = 10)\n",
    "for s in [\"top\",\"right\",\"left\"]:\n",
    "    ax.spines[s].set_visible(False)\n",
    "L = ax.legend(frameon=False,loc=\"upper center\", bbox_to_anchor=(1.25, 0.8), ncol= 1)\n",
    "plt.setp(L.texts, family='monospace')\n",
    "L.get_frame().set_facecolor('none')\n",
    "L.get_texts()[1].set_text('Outside of Europe')\n",
    "L.get_texts()[2].set_text('Europe')\n",
    "L.get_texts()[3].set_text('Happiness Score')\n",
    "start, end = ax.get_ylim()\n",
    "ax.yaxis.set_ticks(np.arange(0, end+0.2, 0.2))\n",
    "ax.text(0.31,1.155,'Happiness Score, Freedom, and Corruption',fontfamily='sansserif',fontweight='normal',fontsize=17,weight='bold',color='#323232')\n",
    "ax.tick_params(axis='both', which='both',left=False, bottom=False,labelbottom=True) \n",
    "plt.show()\n"
   ]
  },
  {
   "cell_type": "markdown",
   "id": "1e72e265",
   "metadata": {},
   "source": [
    "It appears that freedom and corruption\n",
    "are inversely related. \n",
    "\n",
    "It also seems that as corruption reduces\n",
    "and freedom increases, so too does\n",
    "happiness.higher corruption tends to be accompanied by lower freedom.\n",
    "\n",
    "However, it is interesting to note that several European nations have high percieved levels of corruption too."
   ]
  },
  {
   "cell_type": "markdown",
   "id": "550dd188",
   "metadata": {},
   "source": [
    "## A Continental view\n",
    "Let's wrap the countries up in to their respective continents to see if we can learn more.\n",
    "\n",
    "Of course we expect Western Europe to be high, but are there any other continents that perform particularly well or poorly in the happiness rankings?"
   ]
  },
  {
   "cell_type": "code",
   "execution_count": null,
   "id": "794d0747",
   "metadata": {
    "scrolled": false
   },
   "outputs": [],
   "source": [
    "continent_score = eda_happy.groupby('region')['healthy life expectancy','gdp per capita','corruption','freedom','score'].mean().reset_index()\n",
    "background = \"#fbfbfb\"\n",
    "fig, ax = plt.subplots(1,1, figsize=(10, 5),dpi=150)\n",
    "fig.patch.set_facecolor(background) # figure background color\n",
    "cmap = ['#dd4124','#009473']\n",
    "color_map = ['#e7e9e7' for _ in range(10)]\n",
    "color_map[9] =  '#009473'# color highlight\n",
    "color_map[5] =  '#009473'\n",
    "color_map[8] =  '#dd4124'\n",
    "color_map[6] =  '#dd4124'\n",
    "ax.set_facecolor(background)\n",
    "sns.scatterplot(data=continent_score, x=continent_score['healthy life expectancy'], y=continent_score['score'],hue=continent_score['region'], alpha=0.9,ec='black',palette=color_map,size=eda_happy[\"score\"], legend=False, sizes=(5, 600))\n",
    "ax.set_xlabel(\"Life Expectancy\",fontfamily='monospace',loc='left',color='gray')\n",
    "ax.set_ylabel(\"Happiness Index Score\",fontfamily='monospace',loc='top',color='gray')\n",
    "ax.tick_params(axis = 'both', which = 'major', labelsize = 10)\n",
    "for s in [\"top\",\"right\",\"left\"]:\n",
    "    ax.spines[s].set_visible(False)\n",
    "ax.text(55,7.5,'Happiness Score & Life Expectancy by Continent',fontfamily='sansserif',fontweight='normal',fontsize=17,weight='bold',color='#323232')\n",
    "ax.text(55,7.3,'There are clear distinctions, with four stand-out continents',fontfamily='monospace',fontweight='light',fontsize=12,color='gray')\n",
    "ax.tick_params(axis='both', which='both',left=False, bottom=False,labelbottom=True) \n",
    "for i, txt in enumerate(continent_score['region']):\n",
    "    ax.annotate(txt, (continent_score['healthy life expectancy'][i]+0.5, continent_score['score'][i]),fontfamily='monospace')\n",
    "plt.show()"
   ]
  },
  {
   "cell_type": "markdown",
   "id": "857cdeda",
   "metadata": {},
   "source": [
    "There are three clusters of continents that are clear to see.\n",
    "Sub-Saharan Africa & South Asia have the lowest scores. Whilst Western Europe and North America & ANZ are far ahead at the top."
   ]
  },
  {
   "cell_type": "markdown",
   "id": "459b8ac2",
   "metadata": {},
   "source": [
    "### Differences between those above & below the mean happiness level\n",
    "Let's plot all many features at once, split by the mean happiness level. The happiest countries are, as always, shown in green."
   ]
  },
  {
   "cell_type": "code",
   "execution_count": null,
   "id": "dd42c8d9",
   "metadata": {},
   "outputs": [],
   "source": [
    "continent_score = eda_happy.groupby('region')['healthy life expectancy','gdp per capita','corruption','freedom','score'].mean().reset_index().mean().sort_values(ascending=True)[:10]\n",
    "df_bottom = eda_happy.groupby('country')['gdp per capita','corruption','freedom','social support','score'].mean().sort_values(by='score',ascending=True)[:10]\n",
    "df_bottom['gdp per capita'] = df_bottom['gdp per capita']/10\n",
    "df_bottom['score'] = df_bottom['score']/5\n",
    "\n",
    "categorical = [var for var in eda_happy.columns if eda_happy[var].dtype=='O']\n",
    "continuous = [var for var in eda_happy.columns if eda_happy[var].dtype!='O']\n",
    "#refined\n",
    "continuous = ['gdp per capita',\n",
    " 'social support',\n",
    " 'healthy life expectancy',\n",
    " 'freedom',\n",
    " 'generosity',\n",
    " 'corruption']"
   ]
  },
  {
   "cell_type": "code",
   "execution_count": null,
   "id": "173dcc4a",
   "metadata": {
    "scrolled": false
   },
   "outputs": [],
   "source": [
    "background_color = '#fbfbfb'\n",
    "fig = plt.figure(figsize=(12, 6), dpi=150,facecolor=background_color)\n",
    "gs = fig.add_gridspec(2, 3)\n",
    "gs.update(wspace=0.2, hspace=0.5)\n",
    "plot = 0\n",
    "for row in range(0, 2):\n",
    "    for col in range(0, 3):\n",
    "        locals()[\"ax\"+str(plot)] = fig.add_subplot(gs[row, col])\n",
    "        locals()[\"ax\"+str(plot)].set_facecolor(background_color)\n",
    "        locals()[\"ax\"+str(plot)].tick_params(axis='y', left=False)\n",
    "        locals()[\"ax\"+str(plot)].get_yaxis().set_visible(False)\n",
    "        locals()[\"ax\"+str(plot)].set_axisbelow(True)\n",
    "        for s in [\"top\",\"right\",\"left\"]:\n",
    "            locals()[\"ax\"+str(plot)].spines[s].set_visible(False)\n",
    "        plot += 1\n",
    "\n",
    "plot = 0\n",
    "Yes = eda_happy[eda_happy['score'].apply(lambda x: 0 if x < mean else 1) == 1]\n",
    "No = eda_happy[eda_happy['score'].apply(lambda x: 0 if x < mean else 1) == 0]\n",
    "for variable in continuous:\n",
    "        sns.kdeplot(Yes[variable], ax=locals()[\"ax\"+str(plot)], color='#009473',ec='black', shade=True, linewidth=1.5, alpha=0.9, zorder=3, legend=False)\n",
    "        sns.kdeplot(No[variable],ax=locals()[\"ax\"+str(plot)], color='#dd4124', shade=True, ec='black',linewidth=1.5, alpha=0.9, zorder=3, legend=False)\n",
    "        locals()[\"ax\"+str(plot)].grid(which='major', axis='x', zorder=0, color='gray', linestyle=':', dashes=(1,5))\n",
    "        locals()[\"ax\"+str(plot)].set_xlabel(variable, fontfamily='monospace')\n",
    "        plot += 1\n",
    "        \n",
    "Xstart, Xend = ax0.get_xlim()\n",
    "Ystart, Yend = ax0.get_ylim()\n",
    "\n",
    "ax0.text(Xstart, Yend+(Yend*0.5), 'Differences between happy & unhappy countries', fontsize=17, fontweight='bold', fontfamily='sansserif',color='#323232')\n",
    "ax0.text(Xstart, Yend+(Yend*0.25), 'There are large differences, with GDP & Social Support being clear\\nperhaps more interesting though, unhappy countries appear to be more generous', fontsize=12, fontweight='light', fontfamily='monospace',color='gray')\n",
    "\n",
    "plt.show()"
   ]
  },
  {
   "cell_type": "markdown",
   "id": "c1e103fc",
   "metadata": {},
   "source": [
    "The plots above confirm what we saw earlier, with some notable features such as social support.\n",
    "That genorisity is percieved as higher in unhappier countries is very interesting."
   ]
  },
  {
   "cell_type": "code",
   "execution_count": null,
   "id": "9736b7ea",
   "metadata": {
    "scrolled": true
   },
   "outputs": [],
   "source": [
    "sns.pairplot(eda_happy21,x_vars=[\n",
    " 'gdp per capita',\n",
    " 'social support',\n",
    " 'healthy life expectancy',\n",
    " 'freedom',\n",
    " 'generosity',\n",
    " 'corruption'],\n",
    "    y_vars=['score'])"
   ]
  },
  {
   "cell_type": "markdown",
   "id": "432dbd26",
   "metadata": {},
   "source": [
    "Now let us see how exactly does these factors behave with each other"
   ]
  },
  {
   "cell_type": "code",
   "execution_count": null,
   "id": "495db6a4",
   "metadata": {},
   "outputs": [],
   "source": [
    "sns.pairplot(eda_happy21,x_vars=[\n",
    " 'score',\n",
    " 'social support',\n",
    " 'healthy life expectancy',\n",
    " 'freedom',\n",
    " 'generosity',\n",
    " 'corruption'],\n",
    "    y_vars=['gdp per capita'])"
   ]
  },
  {
   "cell_type": "code",
   "execution_count": null,
   "id": "29528252",
   "metadata": {},
   "outputs": [],
   "source": [
    "sns.pairplot(eda_happy21,x_vars=[\n",
    " 'score',\n",
    " 'gdp per capita',\n",
    " 'healthy life expectancy',\n",
    " 'freedom',\n",
    " 'generosity',\n",
    " 'corruption'],\n",
    "    y_vars=['social support'])"
   ]
  },
  {
   "cell_type": "code",
   "execution_count": null,
   "id": "ce35c48a",
   "metadata": {},
   "outputs": [],
   "source": [
    "sns.pairplot(eda_happy21,x_vars=[\n",
    " 'score',\n",
    " 'gdp per capita',\n",
    " 'social support',\n",
    " 'freedom',\n",
    " 'generosity',\n",
    " 'corruption'],\n",
    "    y_vars=['healthy life expectancy'])"
   ]
  },
  {
   "cell_type": "code",
   "execution_count": null,
   "id": "e3faf04c",
   "metadata": {},
   "outputs": [],
   "source": [
    "sns.pairplot(eda_happy21,x_vars=[\n",
    " 'score',\n",
    " 'gdp per capita',\n",
    " 'healthy life expectancy',\n",
    " 'social support',\n",
    " 'generosity',\n",
    " 'corruption'],\n",
    "    y_vars=['freedom'])"
   ]
  },
  {
   "cell_type": "markdown",
   "id": "b0c55e09",
   "metadata": {},
   "source": [
    "#### So far We have Seen How these factor are affecting happiness scores of various regions and there behavior with each other.\n",
    "##### From the Study So far we have identified major factors that affect happiness scores in a country now let us see how exactly do these factor impact happiness index of various Countries"
   ]
  },
  {
   "cell_type": "code",
   "execution_count": null,
   "id": "69f48ba8",
   "metadata": {},
   "outputs": [],
   "source": [
    "ddf=eda_happy\n",
    "dfi=ddf.loc[ddf['country']=='India']\n",
    "dff=ddf.loc[ddf['country']=='Finland']\n",
    "dfj=ddf.loc[ddf['country']=='Japan']\n",
    "dfd=ddf.loc[ddf['country']=='Denmark']\n",
    "h=ddf.loc[ddf['country'].isin(['India','Japan','Denmark','Finland'])]\n",
    "dfj.head()"
   ]
  },
  {
   "cell_type": "code",
   "execution_count": null,
   "id": "a34d60a7",
   "metadata": {},
   "outputs": [],
   "source": [
    "dfd.head()"
   ]
  },
  {
   "cell_type": "code",
   "execution_count": null,
   "id": "b94d428d",
   "metadata": {},
   "outputs": [],
   "source": [
    "dfi.head()"
   ]
  },
  {
   "cell_type": "code",
   "execution_count": null,
   "id": "8d968006",
   "metadata": {},
   "outputs": [],
   "source": [
    "dff.head()"
   ]
  },
  {
   "cell_type": "code",
   "execution_count": null,
   "id": "73f86aa9",
   "metadata": {
    "scrolled": false
   },
   "outputs": [],
   "source": [
    "plt.figure(figsize=(20,10))\n",
    "sns.lineplot(x=\"year\", y=\"score\",data=h,hue='country',palette='flare',markers=True,style=True,)\n",
    "plt.ylabel('Score',fontsize=25)\n",
    "plt.title('Score',fontsize=30)\n",
    "plt.xlabel('Year',fontsize=25)\n",
    "plt.show()\n",
    "fig, ax =plt.subplots(3,2,figsize=(20,15))\n",
    "sns.lineplot(x=\"year\", y=\"generosity\",data=h,hue='country',palette='flare',markers=True,style=True,ax=ax[0,0])\n",
    "sns.lineplot(x=\"year\", y=\"gdp per capita\",data=h,hue='country',palette='flare',markers=True,style=True,ax=ax[0,1])\n",
    "sns.lineplot(x=\"year\", y=\"healthy life expectancy\",data=h,hue='country',palette='flare',markers=True,style=True,ax=ax[1,0])\n",
    "sns.lineplot(x=\"year\", y=\"social support\",data=h,hue='country',markers=True,style=True,palette='flare',ax=ax[1,1])\n",
    "sns.lineplot(x=\"year\", y=\"freedom\",data=h,hue='country',palette='flare',markers=True,style=True,ax=ax[2,0])\n",
    "sns.lineplot(x=\"year\", y=\"corruption\",data=h,hue='country',markers=True,style=True,palette='flare',ax=ax[2,1])\n",
    "ax[0,0].set_title('Generosity',fontsize=20)\n",
    "ax[0,1].set_title('GDP per Capita',fontsize=20)\n",
    "ax[1,0].set_title('Healthy life expectancy',fontsize=20)\n",
    "ax[1,1].set_title('Social Support',fontsize=20)\n",
    "ax[2,0].set_title('Freedom',fontsize=20)\n",
    "ax[2,1].set_title('Corruption',fontsize=20)\n",
    "ax[0,0].set_ylabel('Generosity',fontsize=15)\n",
    "ax[0,1].set_ylabel('GDP per Capita',fontsize=15)\n",
    "ax[1,0].set_ylabel('Healthy life expectancy',fontsize=15)\n",
    "ax[1,1].set_ylabel('Social Support',fontsize=15)\n",
    "ax[2,0].set_ylabel('Freedom',fontsize=15)\n",
    "ax[2,1].set_ylabel('Corruption',fontsize=15)\n",
    "ax[0,0].set_xlabel('',fontsize=15)\n",
    "ax[0,1].set_xlabel('',fontsize=15)\n",
    "ax[1,0].set_xlabel('',fontsize=15)\n",
    "ax[1,1].set_xlabel('',fontsize=15)\n",
    "ax[2,0].set_xlabel('Year',fontsize=15)\n",
    "ax[2,1].set_xlabel('Year',fontsize=15)\n",
    "fig.show()"
   ]
  },
  {
   "cell_type": "markdown",
   "id": "067fd00f",
   "metadata": {},
   "source": [
    "##### Now Its quite clear that countries with higher happiness scores have put considerable amount of work in their GDP, Healthy Life Expectancy, Social Support and Freedom.Also these counties have considerably less perception of corruption."
   ]
  },
  {
   "cell_type": "markdown",
   "id": "083a90a3",
   "metadata": {},
   "source": [
    "# Case Study : Where does India Stand?"
   ]
  },
  {
   "cell_type": "code",
   "execution_count": null,
   "id": "d3f10424",
   "metadata": {},
   "outputs": [],
   "source": [
    "asian_countries= ['Afghanistan', 'Bangladesh', 'Bhutan', 'China','Cambodia' 'Hong Kong S.A.R. of China', 'India', 'Indonesia', 'Japan', 'Kazakhstan', 'Kyrgyzstan','Laos', 'Malaysia', 'Maldives', 'Mongolia', 'Myanmar', 'Nepal', 'Pakistan', 'Philippines', 'Singapore', 'South Korea', 'Sri Lanka', 'Taiwan Province of China', 'Tajikistan', 'Thailand', 'Turkmenistan', 'Uzbekistan', 'Vietnam']\n",
    "sa=['Afghanistan','Bangladesh','Bhutan','China','India','Nepal','Maldives','Myanmar','Pakistan','Sri Lanka']\n",
    "df_asian= eda_happy[eda_happy['country'].isin(asian_countries)]\n",
    "df_asian=df_asian.reset_index(drop=True)\n",
    "print(\"Number of South-Asian countries:\",len(sa))"
   ]
  },
  {
   "cell_type": "code",
   "execution_count": null,
   "id": "6b28c2e1",
   "metadata": {},
   "outputs": [],
   "source": [
    "df_sa= eda_happy[eda_happy['country'].isin(sa)]\n",
    "df_sa=df_sa.reset_index(drop=True)\n",
    "df_sa_h=df_sa[df_sa['score']==df_sa.groupby(\"year\")['score'].transform('max').values]\n",
    "df_sa_h=df_sa_h.sort_values(by='year')\n",
    "plt.figure(figsize=(12,5))\n",
    "plt.xticks(fontsize=15)\n",
    "plt.yticks(fontsize=15)\n",
    "plt.xlim(0,15)\n",
    "plt.ylim(0,10)\n",
    "plt.title('Happiest countries in South-Asia by year',fontsize='20')\n",
    "sns.barplot(x='year', y='score', data = df_sa_h, hue = 'country', dodge=False)"
   ]
  },
  {
   "cell_type": "code",
   "execution_count": null,
   "id": "15d8db32",
   "metadata": {},
   "outputs": [],
   "source": [
    "df_sa_s=df_sa[df_sa['score']==df_sa.groupby(\"year\")['score'].transform('min').values]\n",
    "df_sa_s=df_sa_s.sort_values(by='year')\n",
    "plt.figure(figsize=(12,5))\n",
    "plt.xticks(fontsize=15)\n",
    "plt.yticks(fontsize=15)\n",
    "plt.xlim(0,15)\n",
    "plt.ylim(0,10)\n",
    "plt.title('Saddest countries in South-Asia by year',fontsize='20')\n",
    "sns.barplot(x='year', y='score', data = df_sa_s, hue = 'country', dodge=False)"
   ]
  },
  {
   "cell_type": "markdown",
   "id": "b1049548",
   "metadata": {},
   "source": [
    "## How happy the people living in each Asian country have been over the years ?"
   ]
  },
  {
   "cell_type": "code",
   "execution_count": null,
   "id": "d3083cbe",
   "metadata": {},
   "outputs": [],
   "source": [
    "df5=df_sa.copy()\n",
    "df5.pop('year')\n",
    "df5=df5.pivot_table(values=df5.columns[1:], index='country', aggfunc=np.mean)\n",
    "df5=df5.reset_index()\n",
    "df5=df5.sort_values(by='score')\n",
    "pal=sns.color_palette(\"flare\", len(df5['score']))\n",
    "plt.figure(figsize=(15,3))\n",
    "plt.xticks(fontsize=15, rotation=45)\n",
    "plt.yticks(fontsize=15)\n",
    "plt.xlim(0,25)\n",
    "plt.ylim(0,10)\n",
    "sns.barplot(x='country', y='score', data = df5, palette=pal, dodge=False)\n",
    "plt.show()"
   ]
  },
  {
   "cell_type": "markdown",
   "id": "096c72ff",
   "metadata": {},
   "source": [
    "## Why India has been among the saddest south-asian countries since 15 years?\n",
    "We will first analyze and compare the Life Ladder score over the years of India and other south-asian countries. Then we will look into different factors that could've possibly played the role in India's unhappiness over the years"
   ]
  },
  {
   "cell_type": "markdown",
   "id": "173b15b4",
   "metadata": {},
   "source": [
    "## Life Ladder score comparison of south-asian countries over the years"
   ]
  },
  {
   "cell_type": "code",
   "execution_count": null,
   "id": "4362e4dd",
   "metadata": {},
   "outputs": [],
   "source": [
    "plt.figure(figsize=(20, 10))\n",
    "for country in sa:\n",
    "    life_ldr_sc = df_asian[(df_asian['country']==country)]\n",
    "    life_ldr_sc = life_ldr_sc.loc[:,['year','score']]\n",
    "    plt.plot(life_ldr_sc['year'], life_ldr_sc['score'].values, label=country, marker='o')\n",
    "\n",
    "plt.xlabel('Year',fontsize=20)\n",
    "plt.ylabel('Life Ladder Score',fontsize=20)\n",
    "plt.title('Life Ladder score of Asian countries over the years',fontsize=20)\n",
    "plt.legend(fontsize=20)\n",
    "plt.xticks(fontsize = 15)\n",
    "plt.yticks(fontsize = 15)\n",
    "plt.show()\n"
   ]
  },
  {
   "cell_type": "markdown",
   "id": "f9cdfbd1",
   "metadata": {},
   "source": [
    "From the above graph, it can be seen that happiness index of India has been gradually decreasing since 2006. In 2006, the happiness index was around 5.4 which is the highest value in this period and in 2020 it was around 4.2. The lowest value of happiness index of India was recorded in 2019 which was around 3.4."
   ]
  },
  {
   "cell_type": "markdown",
   "id": "5c9dd12a",
   "metadata": {},
   "source": [
    "## How different factors have been for India in these years?\n",
    "We will now visualize and analyze about how the following factors have been for India in the period 2005 to 2021:\n",
    "\n",
    "* Generosity\n",
    "* Healthy life expectancy at birth\n",
    "* Freedom to make life choices\n",
    "* Log GDP per capita\n",
    "* Corruption\n",
    "* Social Support"
   ]
  },
  {
   "cell_type": "code",
   "execution_count": null,
   "id": "2b25b4b1",
   "metadata": {},
   "outputs": [],
   "source": [
    "\n",
    "plt.figure(figsize = (15,8))\n",
    "\n",
    "#Generosity score of India over the years\n",
    "best_generosity=max(df_sa['generosity'])\n",
    "plt.subplot(231)\n",
    "plt.axhline(best_generosity, ls='--', color='grey')\n",
    "plt.bar(df_sa[df_sa['country']=='India']['year'], df_sa[df_sa['country']=='India']['generosity'], color='r') \n",
    "plt.ylabel('Generosity')\n",
    "plt.title(\"Generosity in India\")\n",
    "\n",
    "\n",
    "#Life Expectancy at birth score of India over the years\n",
    "best_LEB=max(df_sa['healthy life expectancy'])\n",
    "plt.subplot(232)\n",
    "plt.axhline(best_LEB, ls='--', color='grey')\n",
    "plt.bar(df_sa[df_sa['country']=='India']['year'], df_sa[df_sa['country']=='India']['healthy life expectancy'], color='g') \n",
    "plt.ylabel('Healthy life expectancy')\n",
    "plt.title(\"Healthy life expectancy in India\")\n",
    "\n",
    "\n",
    "#Freedom to make life choices score of India over the years\n",
    "best_freedom=max(df_sa['freedom'])\n",
    "plt.subplot(233)\n",
    "plt.axhline(best_freedom, ls='--', color='grey')\n",
    "plt.bar(df_sa[df_sa['country']=='India']['year'], df_sa[df_sa['country']=='India']['freedom'], color='b') \n",
    "plt.ylabel('Freedom to make life choices')\n",
    "plt.title(\"Freedom to make life choices in India\")\n",
    "\n",
    "\n",
    "#Log GDP per capita score of India over the years\n",
    "best_gdp=max(df_sa['gdp per capita'])\n",
    "\n",
    "plt.subplot(234)\n",
    "plt.axhline(best_gdp, ls='--', color='grey')\n",
    "plt.bar(df_sa[df_sa['country']=='India']['year'], df_sa[df_sa['country']=='India']['gdp per capita'], color='y') \n",
    "plt.xlabel('Year')\n",
    "plt.ylabel('Log GDP per capita')\n",
    "plt.title(\"Log GDP per capita in India\")\n",
    "\n",
    "#Corruption score of India over the years\n",
    "least_corruption=min(df_sa['corruption'])\n",
    "plt.subplot(235)\n",
    "plt.axhline(least_corruption, ls='--', color='grey')\n",
    "plt.bar(df_sa[df_sa['country']=='India']['year'], df_sa[df_sa['country']=='India']['corruption'], color='c') \n",
    "plt.xlabel('Year')\n",
    "plt.ylabel('Corruption')\n",
    "plt.title(\"Corruption in India\")\n",
    "\n",
    "#Social Support score of India over the years\n",
    "best_socialsupport=max(df_sa['social support'])\n",
    "plt.subplot(236)\n",
    "plt.axhline(best_socialsupport, ls='--', color='grey')\n",
    "plt.bar(df_sa[df_sa['country']=='India']['year'], df_sa[df_sa['country']=='India']['social support'], color='m') \n",
    "plt.xlabel('Year')\n",
    "plt.ylabel('Social Support')\n",
    "plt.title(\"Social Support in India\")\n",
    "plt.show()\n"
   ]
  },
  {
   "cell_type": "markdown",
   "id": "e8d2feaf",
   "metadata": {},
   "source": [
    "### Key Takeaways from above graphs:\n",
    "<ul style=\"line-height=2.5em;\">\n",
    "<li> <u>Factors where India is doing good at:</u> Healthly life exptancy at birth, Freedom to make life choices and Log GDP per capita.\n",
    "<li> <u>Factors where India needs a lot of improvement:</u> Generosity, Social Support and corruption.\n",
    "<li> Corruption in India post-2014 has been lesser than that in pre-2014 with 2011 being the year when most of the corruption cases happened.\n",
    "<li> There has been the good improvement in the freedom to make life choices in last 2-3 years.\n",
    "<li> India still needs to do a lot of work to get the best score in above factors, which is stated as below:"
   ]
  },
  {
   "cell_type": "code",
   "execution_count": null,
   "id": "0bbc6a0c",
   "metadata": {
    "scrolled": false
   },
   "outputs": [],
   "source": [
    "plt.figure(figsize=(20,70))\n",
    "#Generosity score of south-asian countries (2005-2020)\n",
    "plt.subplot(611)\n",
    "for country in sa:\n",
    "    life_ldr_sc = df_asian[(df_asian['country']==country)]\n",
    "    life_ldr_sc = life_ldr_sc.loc[:,['year','generosity']]\n",
    "    plt.plot(life_ldr_sc['year'], life_ldr_sc['generosity'].values, label=country, marker='o')\n",
    "\n",
    "plt.xlabel('Year',fontsize=20)\n",
    "plt.ylabel('Generosity',fontsize=20)\n",
    "plt.title('Generosity of South-Asian countries over the years',fontsize=20)\n",
    "plt.legend(fontsize=20)\n",
    "plt.xticks(fontsize = 15)\n",
    "plt.yticks(fontsize = 15)\n",
    "#Life Expectancy at birth score of south-asian countries\n",
    "plt.subplot(612)\n",
    "for country in sa:\n",
    "    life_ldr_sc = df_asian[(df_asian['country']==country)]\n",
    "    life_ldr_sc = life_ldr_sc.loc[:,['year','healthy life expectancy']]\n",
    "    plt.plot(life_ldr_sc['year'], life_ldr_sc['healthy life expectancy'].values, label=country, marker='o')\n",
    "\n",
    "plt.xlabel('Year',fontsize=20)\n",
    "plt.ylabel('Healthy life expectancy',fontsize=20)\n",
    "plt.title('Healthy life expectancy of South-Asian countries over the years',fontsize=20)\n",
    "plt.legend(fontsize=20)\n",
    "plt.xticks(fontsize = 15)\n",
    "plt.yticks(fontsize = 15)\n",
    "\n",
    "#Freedom to make life choices score of south-asian countries\n",
    "plt.subplot(613)\n",
    "for country in sa:\n",
    "    life_ldr_sc = df_asian[(df_asian['country']==country)]\n",
    "    life_ldr_sc = life_ldr_sc.loc[:,['year','freedom']]\n",
    "    plt.plot(life_ldr_sc['year'], life_ldr_sc['freedom'].values, label=country, marker='o')\n",
    "\n",
    "plt.xlabel('Year',fontsize=20)\n",
    "plt.ylabel('Freedom to make life choices',fontsize=20)\n",
    "plt.title('Freedom to make life choices of South-Asian countries over the years',fontsize=20)\n",
    "plt.legend(fontsize=20)\n",
    "plt.xticks(fontsize = 15)\n",
    "plt.yticks(fontsize = 15)\n",
    "\n",
    "#Log GDP per capita score of south-asian countries\n",
    "plt.subplot(614)\n",
    "for country in sa:\n",
    "    life_ldr_sc = df_asian[(df_asian['country']==country)]\n",
    "    life_ldr_sc = life_ldr_sc.loc[:,['year','gdp per capita']]\n",
    "    plt.plot(life_ldr_sc['year'], life_ldr_sc['gdp per capita'].values, label=country, marker='o')\n",
    "\n",
    "plt.xlabel('Year',fontsize=20)\n",
    "plt.ylabel('Log GDP per capita',fontsize=20)\n",
    "plt.title('Log GDP per capita of South-Asian countries over the years',fontsize=20)\n",
    "plt.legend(fontsize=20)\n",
    "plt.xticks(fontsize = 15)\n",
    "plt.yticks(fontsize = 15)\n",
    "\n",
    "#Corruption score of south-asian countries (2005-2020)\n",
    "plt.subplot(615)\n",
    "for country in sa:\n",
    "    life_ldr_sc = df_asian[(df_asian['country']==country)]\n",
    "    life_ldr_sc = life_ldr_sc.loc[:,['year','corruption']]\n",
    "    plt.plot(life_ldr_sc['year'], life_ldr_sc['corruption'].values, label=country, marker='o')\n",
    "\n",
    "plt.xlabel('Year',fontsize=20)\n",
    "plt.ylabel('Corruption',fontsize=20)\n",
    "plt.title('Corruption in South-Asian countries over the years',fontsize=20)\n",
    "plt.legend(fontsize=20)\n",
    "plt.xticks(fontsize = 15)\n",
    "plt.yticks(fontsize = 15)\n",
    "\n",
    "#Social support score of south-asian countries\n",
    "plt.subplot(616)\n",
    "for country in sa:\n",
    "    life_ldr_sc = df_asian[(df_asian['country']==country)]\n",
    "    life_ldr_sc = life_ldr_sc.loc[:,['year','social support']]\n",
    "    plt.plot(life_ldr_sc['year'], life_ldr_sc['social support'].values, label=country, marker='o')\n",
    "\n",
    "plt.xlabel('Year',fontsize=20)\n",
    "plt.ylabel('Social support',fontsize=20)\n",
    "plt.title('Social support in South-Asian countries over the years',fontsize=20)\n",
    "plt.legend(fontsize=20)\n",
    "plt.xticks(fontsize = 15)\n",
    "plt.yticks(fontsize = 15)\n",
    "plt.show()"
   ]
  },
  {
   "cell_type": "markdown",
   "id": "df572450",
   "metadata": {},
   "source": [
    "## Key takeaways from above graphs\n",
    "<ul style='line-height:2em;'>\n",
    "<li><b>Generosity:</b> Eventhough India's generosity score has been nearly more or less same as majority of other south-asian countries, it still needs to work a lot on it to achieve an average score same as Myanmar\n",
    "<li><b>Healthy Life Expectancy:</b> India and other south asian countries have been making a steady improvement in this field. India still needs to work in its healthcare sector to make a significant improvement in Healthy Life expectancy at Birth as countries like China, Bangladesh and Sri Lanka are still ahead\n",
    "<li><b>Freedom to make life choices:</b> India has been making a significant improvement in this field in last 2-3 years as compared to other countries. Infact in 2020, India ended taking the highest score in this factor. India should keep up this score\n",
    "<li><b>Log GDP per capita:</b> India's GDP per capita has been in great shape in all these years. However in 2020 it dropped down which could be due to the ongoing COVID-19 pandemic\n",
    "<li><b>Corruption:</b> Corruption in India has been going down since 2014. India should keep up the good work on decreasing the corruption\n",
    "<li><b>Social Support:</b> India lags behind a lot in this field and needs a good amount of work here"
   ]
  },
  {
   "cell_type": "markdown",
   "id": "36c0b933",
   "metadata": {},
   "source": [
    "# Inferences based on above analysis:\n",
    "\n",
    "* India's low life ladder score could be due to it's lagging in Social support, generosity and corruption.To make significant improvement and become atleast the happiest south asian country:\n",
    "* India should work a lot on Generosity and Social support.\n",
    "* It should also do a good amount of work on decreasing corruption and increasing Life expectancy at birth.\n",
    "* It should keep up the work of maintaining the freedom to make choices and GDP per capita"
   ]
  }
 ],
 "metadata": {
  "kernelspec": {
   "display_name": "Python 3",
   "language": "python",
   "name": "python3"
  },
  "language_info": {
   "codemirror_mode": {
    "name": "ipython",
    "version": 3
   },
   "file_extension": ".py",
   "mimetype": "text/x-python",
   "name": "python",
   "nbconvert_exporter": "python",
   "pygments_lexer": "ipython3",
   "version": "3.8.8"
  }
 },
 "nbformat": 4,
 "nbformat_minor": 5
}
